{
 "cells": [
  {
   "cell_type": "code",
   "execution_count": 1,
   "metadata": {},
   "outputs": [],
   "source": [
    "import sys\n",
    "sys.path.insert(0,'..')"
   ]
  },
  {
   "cell_type": "code",
   "execution_count": 2,
   "metadata": {},
   "outputs": [],
   "source": [
    "import jelm"
   ]
  },
  {
   "cell_type": "code",
   "execution_count": 3,
   "metadata": {},
   "outputs": [],
   "source": [
    "from jelm import Jelm"
   ]
  },
  {
   "cell_type": "code",
   "execution_count": 4,
   "metadata": {},
   "outputs": [],
   "source": [
    "el = jelm.Jelm()"
   ]
  },
  {
   "cell_type": "code",
   "execution_count": 5,
   "metadata": {},
   "outputs": [],
   "source": [
    "bigl = list(range(100000))\n",
    "bigd = {i: 'FING' for i in range(100000)}"
   ]
  },
  {
   "cell_type": "code",
   "execution_count": null,
   "metadata": {},
   "outputs": [],
   "source": []
  },
  {
   "cell_type": "code",
   "execution_count": 6,
   "metadata": {},
   "outputs": [],
   "source": [
    "node_list1 = [{\"type\": \"node\", \"id\": \"n{}\".format(i)} for i in range(20)]\n",
    "\n",
    "edge_list1 = [\n",
    "    {\n",
    "        \"type\": \"edge\",\n",
    "        \"source\": \"n{}\".format(ns[0]),\n",
    "        \"target\": \"n{}\".format(ns[1]),\n",
    "    }\n",
    "    for ns in [(0, 1), (1, 2), (4, 1), (10, 8), (9, 3), (18, 6)]\n",
    "]\n",
    "\n",
    "el1 = Jelm(objects=[*node_list1, *edge_list1])"
   ]
  },
  {
   "cell_type": "code",
   "execution_count": 7,
   "metadata": {},
   "outputs": [],
   "source": [
    "el0 = el1.copy()"
   ]
  },
  {
   "cell_type": "code",
   "execution_count": 8,
   "metadata": {},
   "outputs": [],
   "source": [
    "el2 = el1.attribute_filter(lambda x: True)"
   ]
  },
  {
   "cell_type": "code",
   "execution_count": 9,
   "metadata": {},
   "outputs": [
    {
     "data": {
      "text/plain": [
       "::jelm Graph with 20 nodes and 6 edges::"
      ]
     },
     "execution_count": 9,
     "metadata": {},
     "output_type": "execute_result"
    }
   ],
   "source": [
    "el0"
   ]
  },
  {
   "cell_type": "code",
   "execution_count": 10,
   "metadata": {},
   "outputs": [
    {
     "data": {
      "text/plain": [
       "::jelm Graph with 20 nodes and 6 edges::"
      ]
     },
     "execution_count": 10,
     "metadata": {},
     "output_type": "execute_result"
    }
   ],
   "source": [
    "el1"
   ]
  },
  {
   "cell_type": "code",
   "execution_count": 11,
   "metadata": {},
   "outputs": [
    {
     "data": {
      "text/plain": [
       "::jelm Graph with 20 nodes and 6 edges::"
      ]
     },
     "execution_count": 11,
     "metadata": {},
     "output_type": "execute_result"
    }
   ],
   "source": [
    "el2"
   ]
  },
  {
   "cell_type": "code",
   "execution_count": 18,
   "metadata": {},
   "outputs": [
    {
     "data": {
      "text/plain": [
       "False"
      ]
     },
     "execution_count": 18,
     "metadata": {},
     "output_type": "execute_result"
    }
   ],
   "source": [
    "el0 == el2"
   ]
  },
  {
   "cell_type": "code",
   "execution_count": 15,
   "metadata": {},
   "outputs": [
    {
     "data": {
      "text/plain": [
       "{'n0': ::jelm Node (n0) with 1 neighbor::,\n",
       " 'n1': ::jelm Node (n1) with 3 neighbors::,\n",
       " 'n2': ::jelm Node (n2) with 1 neighbor::,\n",
       " 'n3': ::jelm Node (n3) with 1 neighbor::,\n",
       " 'n4': ::jelm Node (n4) with 1 neighbor::,\n",
       " 'n5': ::jelm Node (n5) with 0 neighbors::,\n",
       " 'n6': ::jelm Node (n6) with 1 neighbor::,\n",
       " 'n7': ::jelm Node (n7) with 0 neighbors::,\n",
       " 'n8': ::jelm Node (n8) with 1 neighbor::,\n",
       " 'n9': ::jelm Node (n9) with 1 neighbor::,\n",
       " 'n10': ::jelm Node (n10) with 1 neighbor::,\n",
       " 'n11': ::jelm Node (n11) with 0 neighbors::,\n",
       " 'n12': ::jelm Node (n12) with 0 neighbors::,\n",
       " 'n13': ::jelm Node (n13) with 0 neighbors::,\n",
       " 'n14': ::jelm Node (n14) with 0 neighbors::,\n",
       " 'n15': ::jelm Node (n15) with 0 neighbors::,\n",
       " 'n16': ::jelm Node (n16) with 0 neighbors::,\n",
       " 'n17': ::jelm Node (n17) with 0 neighbors::,\n",
       " 'n18': ::jelm Node (n18) with 1 neighbor::,\n",
       " 'n19': ::jelm Node (n19) with 0 neighbors::}"
      ]
     },
     "execution_count": 15,
     "metadata": {},
     "output_type": "execute_result"
    }
   ],
   "source": [
    "el1.nodes"
   ]
  },
  {
   "cell_type": "code",
   "execution_count": 14,
   "metadata": {},
   "outputs": [
    {
     "data": {
      "text/plain": [
       "{'n0': ::jelm Node (n0) with 1 neighbor::,\n",
       " 'n1': ::jelm Node (n1) with 3 neighbors::,\n",
       " 'n2': ::jelm Node (n2) with 1 neighbor::,\n",
       " 'n3': ::jelm Node (n3) with 1 neighbor::,\n",
       " 'n4': ::jelm Node (n4) with 1 neighbor::,\n",
       " 'n5': ::jelm Node (n5) with 0 neighbors::,\n",
       " 'n6': ::jelm Node (n6) with 1 neighbor::,\n",
       " 'n7': ::jelm Node (n7) with 0 neighbors::,\n",
       " 'n8': ::jelm Node (n8) with 1 neighbor::,\n",
       " 'n9': ::jelm Node (n9) with 1 neighbor::,\n",
       " 'n10': ::jelm Node (n10) with 1 neighbor::,\n",
       " 'n11': ::jelm Node (n11) with 0 neighbors::,\n",
       " 'n12': ::jelm Node (n12) with 0 neighbors::,\n",
       " 'n13': ::jelm Node (n13) with 0 neighbors::,\n",
       " 'n14': ::jelm Node (n14) with 0 neighbors::,\n",
       " 'n15': ::jelm Node (n15) with 0 neighbors::,\n",
       " 'n16': ::jelm Node (n16) with 0 neighbors::,\n",
       " 'n17': ::jelm Node (n17) with 0 neighbors::,\n",
       " 'n18': ::jelm Node (n18) with 1 neighbor::,\n",
       " 'n19': ::jelm Node (n19) with 0 neighbors::}"
      ]
     },
     "execution_count": 14,
     "metadata": {},
     "output_type": "execute_result"
    }
   ],
   "source": [
    "el0.nodes"
   ]
  },
  {
   "cell_type": "code",
   "execution_count": 21,
   "metadata": {},
   "outputs": [
    {
     "data": {
      "text/plain": [
       "{'metadata': {},\n",
       " 'nodes': {'n0': {'in': {},\n",
       "   'out': {'n1': ['{\\n\"source\": \"n0\",\\n\"target\": \"n1\",\\n\"type\": \"edge\"\\n}',\n",
       "     '{\\n\"source\": \"n0\",\\n\"target\": \"n1\",\\n\"type\": \"edge\"\\n}']},\n",
       "   'attributes': {}},\n",
       "  'n1': {'in': {'n0': ['{\\n\"source\": \"n0\",\\n\"target\": \"n1\",\\n\"type\": \"edge\"\\n}',\n",
       "     '{\\n\"source\": \"n0\",\\n\"target\": \"n1\",\\n\"type\": \"edge\"\\n}'],\n",
       "    'n4': ['{\\n\"source\": \"n4\",\\n\"target\": \"n1\",\\n\"type\": \"edge\"\\n}',\n",
       "     '{\\n\"source\": \"n4\",\\n\"target\": \"n1\",\\n\"type\": \"edge\"\\n}']},\n",
       "   'out': {'n2': ['{\\n\"source\": \"n1\",\\n\"target\": \"n2\",\\n\"type\": \"edge\"\\n}',\n",
       "     '{\\n\"source\": \"n1\",\\n\"target\": \"n2\",\\n\"type\": \"edge\"\\n}']},\n",
       "   'attributes': {}},\n",
       "  'n2': {'in': {'n1': ['{\\n\"source\": \"n1\",\\n\"target\": \"n2\",\\n\"type\": \"edge\"\\n}',\n",
       "     '{\\n\"source\": \"n1\",\\n\"target\": \"n2\",\\n\"type\": \"edge\"\\n}']},\n",
       "   'out': {},\n",
       "   'attributes': {}},\n",
       "  'n3': {'in': {'n9': ['{\\n\"source\": \"n9\",\\n\"target\": \"n3\",\\n\"type\": \"edge\"\\n}',\n",
       "     '{\\n\"source\": \"n9\",\\n\"target\": \"n3\",\\n\"type\": \"edge\"\\n}']},\n",
       "   'out': {},\n",
       "   'attributes': {}},\n",
       "  'n4': {'in': {},\n",
       "   'out': {'n1': ['{\\n\"source\": \"n4\",\\n\"target\": \"n1\",\\n\"type\": \"edge\"\\n}',\n",
       "     '{\\n\"source\": \"n4\",\\n\"target\": \"n1\",\\n\"type\": \"edge\"\\n}']},\n",
       "   'attributes': {}},\n",
       "  'n5': {'in': {}, 'out': {}, 'attributes': {}},\n",
       "  'n6': {'in': {'n18': ['{\\n\"source\": \"n18\",\\n\"target\": \"n6\",\\n\"type\": \"edge\"\\n}',\n",
       "     '{\\n\"source\": \"n18\",\\n\"target\": \"n6\",\\n\"type\": \"edge\"\\n}']},\n",
       "   'out': {},\n",
       "   'attributes': {}},\n",
       "  'n7': {'in': {}, 'out': {}, 'attributes': {}},\n",
       "  'n8': {'in': {'n10': ['{\\n\"source\": \"n10\",\\n\"target\": \"n8\",\\n\"type\": \"edge\"\\n}',\n",
       "     '{\\n\"source\": \"n10\",\\n\"target\": \"n8\",\\n\"type\": \"edge\"\\n}']},\n",
       "   'out': {},\n",
       "   'attributes': {}},\n",
       "  'n9': {'in': {},\n",
       "   'out': {'n3': ['{\\n\"source\": \"n9\",\\n\"target\": \"n3\",\\n\"type\": \"edge\"\\n}',\n",
       "     '{\\n\"source\": \"n9\",\\n\"target\": \"n3\",\\n\"type\": \"edge\"\\n}']},\n",
       "   'attributes': {}},\n",
       "  'n10': {'in': {},\n",
       "   'out': {'n8': ['{\\n\"source\": \"n10\",\\n\"target\": \"n8\",\\n\"type\": \"edge\"\\n}',\n",
       "     '{\\n\"source\": \"n10\",\\n\"target\": \"n8\",\\n\"type\": \"edge\"\\n}']},\n",
       "   'attributes': {}},\n",
       "  'n11': {'in': {}, 'out': {}, 'attributes': {}},\n",
       "  'n12': {'in': {}, 'out': {}, 'attributes': {}},\n",
       "  'n13': {'in': {}, 'out': {}, 'attributes': {}},\n",
       "  'n14': {'in': {}, 'out': {}, 'attributes': {}},\n",
       "  'n15': {'in': {}, 'out': {}, 'attributes': {}},\n",
       "  'n16': {'in': {}, 'out': {}, 'attributes': {}},\n",
       "  'n17': {'in': {}, 'out': {}, 'attributes': {}},\n",
       "  'n18': {'in': {},\n",
       "   'out': {'n6': ['{\\n\"source\": \"n18\",\\n\"target\": \"n6\",\\n\"type\": \"edge\"\\n}',\n",
       "     '{\\n\"source\": \"n18\",\\n\"target\": \"n6\",\\n\"type\": \"edge\"\\n}']},\n",
       "   'attributes': {}},\n",
       "  'n19': {'in': {}, 'out': {}, 'attributes': {}}}}"
      ]
     },
     "execution_count": 21,
     "metadata": {},
     "output_type": "execute_result"
    }
   ],
   "source": [
    "el1.get_comparison_dict()"
   ]
  },
  {
   "cell_type": "code",
   "execution_count": 24,
   "metadata": {},
   "outputs": [
    {
     "name": "stdout",
     "output_type": "stream",
     "text": [
      "AJJ\n"
     ]
    }
   ],
   "source": [
    "for nid, ndic in el0.get_comparison_dict()['nodes'].items():\n",
    "    if ndic != el1.get_comparison_dict()['nodes'][nid]:\n",
    "        print('AJJ')\n",
    "        break"
   ]
  },
  {
   "cell_type": "code",
   "execution_count": 27,
   "metadata": {},
   "outputs": [
    {
     "data": {
      "text/plain": [
       "'n0'"
      ]
     },
     "execution_count": 27,
     "metadata": {},
     "output_type": "execute_result"
    }
   ],
   "source": [
    "nid"
   ]
  },
  {
   "cell_type": "code",
   "execution_count": 25,
   "metadata": {},
   "outputs": [
    {
     "data": {
      "text/plain": [
       "{'in': {},\n",
       " 'out': {'n1': ['{\\n\"source\": \"n0\",\\n\"target\": \"n1\",\\n\"type\": \"edge\"\\n}']},\n",
       " 'attributes': {}}"
      ]
     },
     "execution_count": 25,
     "metadata": {},
     "output_type": "execute_result"
    }
   ],
   "source": [
    "ndic"
   ]
  },
  {
   "cell_type": "code",
   "execution_count": 26,
   "metadata": {},
   "outputs": [
    {
     "data": {
      "text/plain": [
       "{'in': {},\n",
       " 'out': {'n1': ['{\\n\"source\": \"n0\",\\n\"target\": \"n1\",\\n\"type\": \"edge\"\\n}',\n",
       "   '{\\n\"source\": \"n0\",\\n\"target\": \"n1\",\\n\"type\": \"edge\"\\n}']},\n",
       " 'attributes': {}}"
      ]
     },
     "execution_count": 26,
     "metadata": {},
     "output_type": "execute_result"
    }
   ],
   "source": [
    "el1.get_comparison_dict()['nodes'][nid]"
   ]
  },
  {
   "cell_type": "code",
   "execution_count": null,
   "metadata": {},
   "outputs": [],
   "source": []
  }
 ],
 "metadata": {
  "kernelspec": {
   "display_name": "Python 3",
   "language": "python",
   "name": "python3"
  },
  "language_info": {
   "codemirror_mode": {
    "name": "ipython",
    "version": 3
   },
   "file_extension": ".py",
   "mimetype": "text/x-python",
   "name": "python",
   "nbconvert_exporter": "python",
   "pygments_lexer": "ipython3",
   "version": "3.7.3"
  }
 },
 "nbformat": 4,
 "nbformat_minor": 2
}
